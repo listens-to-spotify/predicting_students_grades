{
 "cells": [
  {
   "cell_type": "code",
   "execution_count": 2,
   "id": "972c9476",
   "metadata": {
    "ExecuteTime": {
     "end_time": "2024-03-06T20:58:39.792498Z",
     "start_time": "2024-03-06T20:58:39.758759Z"
    }
   },
   "outputs": [],
   "source": [
    "import pandas as pd\n",
    "import numpy as np\n",
    "import scipy as sp\n",
    "import matplotlib.pyplot as plt\n",
    "%matplotlib inline"
   ]
  },
  {
   "cell_type": "code",
   "execution_count": 4,
   "id": "2175cd3a",
   "metadata": {
    "ExecuteTime": {
     "end_time": "2024-03-06T21:00:15.467748Z",
     "start_time": "2024-03-06T21:00:15.410113Z"
    }
   },
   "outputs": [],
   "source": [
    "math = pd.read_csv('../data/math_for_ML.csv')\n",
    "port = pd.read_csv('../data/port_for_ML.csv')"
   ]
  },
  {
   "cell_type": "code",
   "execution_count": 10,
   "id": "99035c44",
   "metadata": {
    "ExecuteTime": {
     "end_time": "2024-03-06T21:07:19.608630Z",
     "start_time": "2024-03-06T21:07:19.578976Z"
    }
   },
   "outputs": [],
   "source": [
    "from sklearn.model_selection import train_test_split\n",
    "Xm = np.array(math[math.columns.tolist()[0:-3]])\n",
    "ym = np.array(math[['G1', 'G2', 'G3']])\n",
    "\n",
    "Xm_train, Xm_test, ym_train, ym_test = train_test_split(Xm, ym, random_state=42)\n",
    "\n",
    "\n",
    "Xp = np.array(port[port.columns.tolist()[0:-3]])\n",
    "yp = np.array(port[['G1', 'G2', 'G3']])\n",
    "\n",
    "Xp_train, Xp_test, yp_train, yp_test = train_test_split(Xp, yp, random_state=42)"
   ]
  },
  {
   "cell_type": "code",
   "execution_count": 18,
   "id": "d293d8d7",
   "metadata": {
    "ExecuteTime": {
     "end_time": "2024-03-06T21:20:45.440712Z",
     "start_time": "2024-03-06T21:20:45.431375Z"
    }
   },
   "outputs": [],
   "source": [
    "def score(model, X_train, X_test, y_train, y_test):\n",
    "    print(f'Accuracy on train data: {round(model.score(X_train, y_train), 3)}\\nAccuracy on test data: {round(model.score(X_test, y_test), 3)}')"
   ]
  },
  {
   "cell_type": "code",
   "execution_count": 19,
   "id": "a03aeadc",
   "metadata": {
    "ExecuteTime": {
     "end_time": "2024-03-06T21:20:48.090099Z",
     "start_time": "2024-03-06T21:20:48.060055Z"
    }
   },
   "outputs": [
    {
     "name": "stdout",
     "output_type": "stream",
     "text": [
      "Math students:\n",
      "Accuracy on train data: 0.258\n",
      "Accuracy on test data: 0.17\n",
      "Portugese students:\n",
      "Accuracy on train data: 0.335\n",
      "Accuracy on test data: 0.169\n"
     ]
    }
   ],
   "source": [
    "from sklearn.linear_model import LinearRegression\n",
    "\n",
    "LRm = LinearRegression().fit(Xm_train, ym_train)\n",
    "LRp = LinearRegression().fit(Xp_train, yp_train)\n",
    "\n",
    "print('Math students:')\n",
    "score(LRm, Xm_train, Xm_test, ym_train, ym_test)\n",
    "\n",
    "print('Portugese students:')\n",
    "score(LRp, Xp_train, Xp_test, yp_train, yp_test)\n"
   ]
  },
  {
   "cell_type": "code",
   "execution_count": null,
   "id": "2c0b196d",
   "metadata": {},
   "outputs": [],
   "source": []
  }
 ],
 "metadata": {
  "kernelspec": {
   "display_name": "Python 3 (ipykernel)",
   "language": "python",
   "name": "python3"
  },
  "language_info": {
   "codemirror_mode": {
    "name": "ipython",
    "version": 3
   },
   "file_extension": ".py",
   "mimetype": "text/x-python",
   "name": "python",
   "nbconvert_exporter": "python",
   "pygments_lexer": "ipython3",
   "version": "3.11.5"
  }
 },
 "nbformat": 4,
 "nbformat_minor": 5
}
