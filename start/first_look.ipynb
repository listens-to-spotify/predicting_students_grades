{
 "cells": [
  {
   "cell_type": "code",
   "execution_count": 131,
   "id": "e2814ca1",
   "metadata": {
    "ExecuteTime": {
     "end_time": "2024-03-06T20:56:19.788052Z",
     "start_time": "2024-03-06T20:56:19.775825Z"
    }
   },
   "outputs": [],
   "source": [
    "import pandas as pd"
   ]
  },
  {
   "cell_type": "code",
   "execution_count": 132,
   "id": "de3ad7de",
   "metadata": {
    "ExecuteTime": {
     "end_time": "2024-03-06T20:56:19.823985Z",
     "start_time": "2024-03-06T20:56:19.788052Z"
    }
   },
   "outputs": [],
   "source": [
    "math_or = pd.read_csv('../data/student-mat.csv')\n",
    "port_or = pd.read_csv('../data/student-por.csv')\n",
    "math = math_or.copy()\n",
    "port = port_or.copy()"
   ]
  },
  {
   "cell_type": "code",
   "execution_count": 133,
   "id": "bf39c4aa",
   "metadata": {
    "ExecuteTime": {
     "end_time": "2024-03-06T20:56:19.838989Z",
     "start_time": "2024-03-06T20:56:19.827953Z"
    }
   },
   "outputs": [
    {
     "name": "stdout",
     "output_type": "stream",
     "text": [
      "Sizes of dfs:\n",
      "  math: (395, 33)\n",
      "  port: (649, 33)\n"
     ]
    }
   ],
   "source": [
    "print(f'Sizes of dfs:\\n  math: {math.shape}\\n  port: {port.shape}')"
   ]
  },
  {
   "cell_type": "code",
   "execution_count": 134,
   "id": "30d8868e",
   "metadata": {
    "ExecuteTime": {
     "end_time": "2024-03-06T20:56:19.865324Z",
     "start_time": "2024-03-06T20:56:19.843706Z"
    }
   },
   "outputs": [
    {
     "name": "stdout",
     "output_type": "stream",
     "text": [
      "<class 'pandas.core.frame.DataFrame'>\n",
      "RangeIndex: 395 entries, 0 to 394\n",
      "Data columns (total 33 columns):\n",
      " #   Column      Non-Null Count  Dtype \n",
      "---  ------      --------------  ----- \n",
      " 0   school      395 non-null    object\n",
      " 1   sex         395 non-null    object\n",
      " 2   age         395 non-null    int64 \n",
      " 3   address     395 non-null    object\n",
      " 4   famsize     395 non-null    object\n",
      " 5   Pstatus     395 non-null    object\n",
      " 6   Medu        395 non-null    int64 \n",
      " 7   Fedu        395 non-null    int64 \n",
      " 8   Mjob        395 non-null    object\n",
      " 9   Fjob        395 non-null    object\n",
      " 10  reason      395 non-null    object\n",
      " 11  guardian    395 non-null    object\n",
      " 12  traveltime  395 non-null    int64 \n",
      " 13  studytime   395 non-null    int64 \n",
      " 14  failures    395 non-null    int64 \n",
      " 15  schoolsup   395 non-null    object\n",
      " 16  famsup      395 non-null    object\n",
      " 17  paid        395 non-null    object\n",
      " 18  activities  395 non-null    object\n",
      " 19  nursery     395 non-null    object\n",
      " 20  higher      395 non-null    object\n",
      " 21  internet    395 non-null    object\n",
      " 22  romantic    395 non-null    object\n",
      " 23  famrel      395 non-null    int64 \n",
      " 24  freetime    395 non-null    int64 \n",
      " 25  goout       395 non-null    int64 \n",
      " 26  Dalc        395 non-null    int64 \n",
      " 27  Walc        395 non-null    int64 \n",
      " 28  health      395 non-null    int64 \n",
      " 29  absences    395 non-null    int64 \n",
      " 30  G1          395 non-null    int64 \n",
      " 31  G2          395 non-null    int64 \n",
      " 32  G3          395 non-null    int64 \n",
      "dtypes: int64(16), object(17)\n",
      "memory usage: 102.0+ KB\n"
     ]
    }
   ],
   "source": [
    "math.info()"
   ]
  },
  {
   "cell_type": "code",
   "execution_count": 135,
   "id": "fa62a058",
   "metadata": {
    "ExecuteTime": {
     "end_time": "2024-03-06T20:56:19.891914Z",
     "start_time": "2024-03-06T20:56:19.865324Z"
    }
   },
   "outputs": [
    {
     "name": "stdout",
     "output_type": "stream",
     "text": [
      "<class 'pandas.core.frame.DataFrame'>\n",
      "RangeIndex: 649 entries, 0 to 648\n",
      "Data columns (total 33 columns):\n",
      " #   Column      Non-Null Count  Dtype \n",
      "---  ------      --------------  ----- \n",
      " 0   school      649 non-null    object\n",
      " 1   sex         649 non-null    object\n",
      " 2   age         649 non-null    int64 \n",
      " 3   address     649 non-null    object\n",
      " 4   famsize     649 non-null    object\n",
      " 5   Pstatus     649 non-null    object\n",
      " 6   Medu        649 non-null    int64 \n",
      " 7   Fedu        649 non-null    int64 \n",
      " 8   Mjob        649 non-null    object\n",
      " 9   Fjob        649 non-null    object\n",
      " 10  reason      649 non-null    object\n",
      " 11  guardian    649 non-null    object\n",
      " 12  traveltime  649 non-null    int64 \n",
      " 13  studytime   649 non-null    int64 \n",
      " 14  failures    649 non-null    int64 \n",
      " 15  schoolsup   649 non-null    object\n",
      " 16  famsup      649 non-null    object\n",
      " 17  paid        649 non-null    object\n",
      " 18  activities  649 non-null    object\n",
      " 19  nursery     649 non-null    object\n",
      " 20  higher      649 non-null    object\n",
      " 21  internet    649 non-null    object\n",
      " 22  romantic    649 non-null    object\n",
      " 23  famrel      649 non-null    int64 \n",
      " 24  freetime    649 non-null    int64 \n",
      " 25  goout       649 non-null    int64 \n",
      " 26  Dalc        649 non-null    int64 \n",
      " 27  Walc        649 non-null    int64 \n",
      " 28  health      649 non-null    int64 \n",
      " 29  absences    649 non-null    int64 \n",
      " 30  G1          649 non-null    int64 \n",
      " 31  G2          649 non-null    int64 \n",
      " 32  G3          649 non-null    int64 \n",
      "dtypes: int64(16), object(17)\n",
      "memory usage: 167.4+ KB\n"
     ]
    }
   ],
   "source": [
    "port.info()"
   ]
  },
  {
   "cell_type": "code",
   "execution_count": 136,
   "id": "bd3e42db",
   "metadata": {
    "ExecuteTime": {
     "end_time": "2024-03-06T20:56:19.929362Z",
     "start_time": "2024-03-06T20:56:19.893811Z"
    },
    "scrolled": true
   },
   "outputs": [],
   "source": [
    "yes_no_mapper = {\n",
    "    'yes': 1,\n",
    "    'no': 0\n",
    "}\n",
    "\n",
    "yes_no_columns = [\n",
    "    'schoolsup',\n",
    "    'famsup',\n",
    "    'paid',\n",
    "    'activities',\n",
    "    'nursery',\n",
    "    'higher',\n",
    "    'internet',\n",
    "    'romantic'    \n",
    "]\n",
    "for column in yes_no_columns:\n",
    "    math[column] = math[column].map(yes_no_mapper)\n",
    "    port[column] = port[column].map(yes_no_mapper)"
   ]
  },
  {
   "cell_type": "code",
   "execution_count": 137,
   "id": "2f96804c",
   "metadata": {
    "ExecuteTime": {
     "end_time": "2024-03-06T20:56:19.953538Z",
     "start_time": "2024-03-06T20:56:19.929362Z"
    }
   },
   "outputs": [],
   "source": [
    "math['sex'] = math['sex'].map({'M': 0, 'F': 1})\n",
    "math['Pstatus'] = math['Pstatus'].map({'A': 0, 'T': 1})\n",
    "math['famsize'] = math['famsize'].map({'LE3': 0, 'GT3': 1})\n",
    "\n",
    "port['sex'] = port['sex'].map({'M': 0, 'F': 1})\n",
    "port['Pstatus'] = port['Pstatus'].map({'A': 0, 'T': 1})\n",
    "port['famsize'] = port['famsize'].map({'LE3': 0, 'GT3': 1})"
   ]
  },
  {
   "cell_type": "code",
   "execution_count": 138,
   "id": "1db1cd1a",
   "metadata": {
    "ExecuteTime": {
     "end_time": "2024-03-06T20:56:19.999417Z",
     "start_time": "2024-03-06T20:56:19.953538Z"
    }
   },
   "outputs": [
    {
     "name": "stdout",
     "output_type": "stream",
     "text": [
      "<class 'pandas.core.frame.DataFrame'>\n",
      "RangeIndex: 395 entries, 0 to 394\n",
      "Data columns (total 27 columns):\n",
      " #   Column      Non-Null Count  Dtype \n",
      "---  ------      --------------  ----- \n",
      " 0   sex         395 non-null    int64 \n",
      " 1   age         395 non-null    int64 \n",
      " 2   famsize     395 non-null    int64 \n",
      " 3   Pstatus     395 non-null    int64 \n",
      " 4   Medu        395 non-null    int64 \n",
      " 5   Fedu        395 non-null    int64 \n",
      " 6   reason      395 non-null    object\n",
      " 7   studytime   395 non-null    int64 \n",
      " 8   failures    395 non-null    int64 \n",
      " 9   schoolsup   395 non-null    int64 \n",
      " 10  famsup      395 non-null    int64 \n",
      " 11  paid        395 non-null    int64 \n",
      " 12  activities  395 non-null    int64 \n",
      " 13  nursery     395 non-null    int64 \n",
      " 14  higher      395 non-null    int64 \n",
      " 15  internet    395 non-null    int64 \n",
      " 16  romantic    395 non-null    int64 \n",
      " 17  famrel      395 non-null    int64 \n",
      " 18  freetime    395 non-null    int64 \n",
      " 19  goout       395 non-null    int64 \n",
      " 20  Dalc        395 non-null    int64 \n",
      " 21  Walc        395 non-null    int64 \n",
      " 22  health      395 non-null    int64 \n",
      " 23  absences    395 non-null    int64 \n",
      " 24  G1          395 non-null    int64 \n",
      " 25  G2          395 non-null    int64 \n",
      " 26  G3          395 non-null    int64 \n",
      "dtypes: int64(26), object(1)\n",
      "memory usage: 83.4+ KB\n"
     ]
    }
   ],
   "source": [
    "math = math.drop(columns=[\n",
    "    'school', 'address', 'Mjob', 'Fjob', 'guardian', 'traveltime'\n",
    "])\n",
    "\n",
    "port = port.drop(columns=[\n",
    "    'school', 'address', 'Mjob', 'Fjob', 'guardian', 'traveltime'\n",
    "])\n",
    "\n",
    "math.to_csv('../data/math_reason.csv', index=False)\n",
    "port.to_csv('../data/port_reason.csv', index=False)\n",
    "\n",
    "\n",
    "math.info()"
   ]
  },
  {
   "cell_type": "code",
   "execution_count": 139,
   "id": "6b3359ec",
   "metadata": {
    "ExecuteTime": {
     "end_time": "2024-03-06T20:56:20.031343Z",
     "start_time": "2024-03-06T20:56:19.999417Z"
    }
   },
   "outputs": [],
   "source": [
    "math = math.drop(columns=['reason'])\n",
    "port = port.drop(columns=['reason'])\n",
    "\n",
    "\n",
    "math.to_csv('../data/math_for_ML.csv', index=False)\n",
    "port.to_csv('../data/port_for_ML.csv', index=False)"
   ]
  }
 ],
 "metadata": {
  "kernelspec": {
   "display_name": "Python 3 (ipykernel)",
   "language": "python",
   "name": "python3"
  },
  "language_info": {
   "codemirror_mode": {
    "name": "ipython",
    "version": 3
   },
   "file_extension": ".py",
   "mimetype": "text/x-python",
   "name": "python",
   "nbconvert_exporter": "python",
   "pygments_lexer": "ipython3",
   "version": "3.11.5"
  }
 },
 "nbformat": 4,
 "nbformat_minor": 5
}
