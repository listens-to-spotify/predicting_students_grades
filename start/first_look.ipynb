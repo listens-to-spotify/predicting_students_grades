{
 "cells": [
  {
   "cell_type": "code",
   "execution_count": 1,
   "id": "c562b5db",
   "metadata": {
    "ExecuteTime": {
     "end_time": "2024-03-07T16:03:10.220131Z",
     "start_time": "2024-03-07T16:03:08.958786Z"
    }
   },
   "outputs": [],
   "source": [
    "import pandas as pd"
   ]
  },
  {
   "cell_type": "code",
   "execution_count": 2,
   "id": "5955bbd7",
   "metadata": {
    "ExecuteTime": {
     "end_time": "2024-03-07T16:03:10.318372Z",
     "start_time": "2024-03-07T16:03:10.227070Z"
    }
   },
   "outputs": [],
   "source": [
    "math_or = pd.read_csv('../data/student-mat.csv')\n",
    "port_or = pd.read_csv('../data/student-por.csv')\n",
    "math = math_or.copy()\n",
    "port = port_or.copy()"
   ]
  },
  {
   "cell_type": "code",
   "execution_count": 3,
   "id": "f30a5c11",
   "metadata": {
    "ExecuteTime": {
     "end_time": "2024-03-07T16:03:10.328992Z",
     "start_time": "2024-03-07T16:03:10.318372Z"
    }
   },
   "outputs": [
    {
     "name": "stdout",
     "output_type": "stream",
     "text": [
      "Sizes of dfs:\n",
      "  math: (395, 33)\n",
      "  port: (649, 33)\n"
     ]
    }
   ],
   "source": [
    "print(f'Sizes of dfs:\\n  math: {math.shape}\\n  port: {port.shape}')"
   ]
  },
  {
   "cell_type": "code",
   "execution_count": 4,
   "id": "69b8973c",
   "metadata": {
    "ExecuteTime": {
     "end_time": "2024-03-07T16:03:10.362035Z",
     "start_time": "2024-03-07T16:03:10.328992Z"
    }
   },
   "outputs": [
    {
     "name": "stdout",
     "output_type": "stream",
     "text": [
      "<class 'pandas.core.frame.DataFrame'>\n",
      "RangeIndex: 395 entries, 0 to 394\n",
      "Data columns (total 33 columns):\n",
      " #   Column      Non-Null Count  Dtype \n",
      "---  ------      --------------  ----- \n",
      " 0   school      395 non-null    object\n",
      " 1   sex         395 non-null    object\n",
      " 2   age         395 non-null    int64 \n",
      " 3   address     395 non-null    object\n",
      " 4   famsize     395 non-null    object\n",
      " 5   Pstatus     395 non-null    object\n",
      " 6   Medu        395 non-null    int64 \n",
      " 7   Fedu        395 non-null    int64 \n",
      " 8   Mjob        395 non-null    object\n",
      " 9   Fjob        395 non-null    object\n",
      " 10  reason      395 non-null    object\n",
      " 11  guardian    395 non-null    object\n",
      " 12  traveltime  395 non-null    int64 \n",
      " 13  studytime   395 non-null    int64 \n",
      " 14  failures    395 non-null    int64 \n",
      " 15  schoolsup   395 non-null    object\n",
      " 16  famsup      395 non-null    object\n",
      " 17  paid        395 non-null    object\n",
      " 18  activities  395 non-null    object\n",
      " 19  nursery     395 non-null    object\n",
      " 20  higher      395 non-null    object\n",
      " 21  internet    395 non-null    object\n",
      " 22  romantic    395 non-null    object\n",
      " 23  famrel      395 non-null    int64 \n",
      " 24  freetime    395 non-null    int64 \n",
      " 25  goout       395 non-null    int64 \n",
      " 26  Dalc        395 non-null    int64 \n",
      " 27  Walc        395 non-null    int64 \n",
      " 28  health      395 non-null    int64 \n",
      " 29  absences    395 non-null    int64 \n",
      " 30  G1          395 non-null    int64 \n",
      " 31  G2          395 non-null    int64 \n",
      " 32  G3          395 non-null    int64 \n",
      "dtypes: int64(16), object(17)\n",
      "memory usage: 102.0+ KB\n"
     ]
    }
   ],
   "source": [
    "math.info()"
   ]
  },
  {
   "cell_type": "code",
   "execution_count": 5,
   "id": "ff2617f9",
   "metadata": {
    "ExecuteTime": {
     "end_time": "2024-03-07T16:03:10.390556Z",
     "start_time": "2024-03-07T16:03:10.362035Z"
    }
   },
   "outputs": [
    {
     "name": "stdout",
     "output_type": "stream",
     "text": [
      "<class 'pandas.core.frame.DataFrame'>\n",
      "RangeIndex: 649 entries, 0 to 648\n",
      "Data columns (total 33 columns):\n",
      " #   Column      Non-Null Count  Dtype \n",
      "---  ------      --------------  ----- \n",
      " 0   school      649 non-null    object\n",
      " 1   sex         649 non-null    object\n",
      " 2   age         649 non-null    int64 \n",
      " 3   address     649 non-null    object\n",
      " 4   famsize     649 non-null    object\n",
      " 5   Pstatus     649 non-null    object\n",
      " 6   Medu        649 non-null    int64 \n",
      " 7   Fedu        649 non-null    int64 \n",
      " 8   Mjob        649 non-null    object\n",
      " 9   Fjob        649 non-null    object\n",
      " 10  reason      649 non-null    object\n",
      " 11  guardian    649 non-null    object\n",
      " 12  traveltime  649 non-null    int64 \n",
      " 13  studytime   649 non-null    int64 \n",
      " 14  failures    649 non-null    int64 \n",
      " 15  schoolsup   649 non-null    object\n",
      " 16  famsup      649 non-null    object\n",
      " 17  paid        649 non-null    object\n",
      " 18  activities  649 non-null    object\n",
      " 19  nursery     649 non-null    object\n",
      " 20  higher      649 non-null    object\n",
      " 21  internet    649 non-null    object\n",
      " 22  romantic    649 non-null    object\n",
      " 23  famrel      649 non-null    int64 \n",
      " 24  freetime    649 non-null    int64 \n",
      " 25  goout       649 non-null    int64 \n",
      " 26  Dalc        649 non-null    int64 \n",
      " 27  Walc        649 non-null    int64 \n",
      " 28  health      649 non-null    int64 \n",
      " 29  absences    649 non-null    int64 \n",
      " 30  G1          649 non-null    int64 \n",
      " 31  G2          649 non-null    int64 \n",
      " 32  G3          649 non-null    int64 \n",
      "dtypes: int64(16), object(17)\n",
      "memory usage: 167.4+ KB\n"
     ]
    }
   ],
   "source": [
    "port.info()"
   ]
  },
  {
   "cell_type": "code",
   "execution_count": 6,
   "id": "a339d363",
   "metadata": {
    "ExecuteTime": {
     "end_time": "2024-03-07T16:03:10.430742Z",
     "start_time": "2024-03-07T16:03:10.390556Z"
    },
    "scrolled": true
   },
   "outputs": [],
   "source": [
    "yes_no_mapper = {\n",
    "    'yes': 1,\n",
    "    'no': 0\n",
    "}\n",
    "\n",
    "yes_no_columns = [\n",
    "    'schoolsup',\n",
    "    'famsup',\n",
    "    'paid',\n",
    "    'activities',\n",
    "    'nursery',\n",
    "    'higher',\n",
    "    'internet',\n",
    "    'romantic'    \n",
    "]\n",
    "for column in yes_no_columns:\n",
    "    math[column] = math[column].map(yes_no_mapper)\n",
    "    port[column] = port[column].map(yes_no_mapper)"
   ]
  },
  {
   "cell_type": "code",
   "execution_count": 7,
   "id": "99741913",
   "metadata": {
    "ExecuteTime": {
     "end_time": "2024-03-07T16:03:10.458555Z",
     "start_time": "2024-03-07T16:03:10.434568Z"
    }
   },
   "outputs": [],
   "source": [
    "math['sex'] = math['sex'].map({'M': 0, 'F': 1})\n",
    "math['Pstatus'] = math['Pstatus'].map({'A': 0, 'T': 1})\n",
    "math['famsize'] = math['famsize'].map({'LE3': 0, 'GT3': 1})\n",
    "\n",
    "port['sex'] = port['sex'].map({'M': 0, 'F': 1})\n",
    "port['Pstatus'] = port['Pstatus'].map({'A': 0, 'T': 1})\n",
    "port['famsize'] = port['famsize'].map({'LE3': 0, 'GT3': 1})"
   ]
  },
  {
   "cell_type": "code",
   "execution_count": 8,
   "id": "4afddb9d",
   "metadata": {
    "ExecuteTime": {
     "end_time": "2024-03-07T16:03:10.514103Z",
     "start_time": "2024-03-07T16:03:10.458555Z"
    }
   },
   "outputs": [
    {
     "name": "stdout",
     "output_type": "stream",
     "text": [
      "<class 'pandas.core.frame.DataFrame'>\n",
      "RangeIndex: 395 entries, 0 to 394\n",
      "Data columns (total 30 columns):\n",
      " #   Column      Non-Null Count  Dtype \n",
      "---  ------      --------------  ----- \n",
      " 0   sex         395 non-null    int64 \n",
      " 1   age         395 non-null    int64 \n",
      " 2   famsize     395 non-null    int64 \n",
      " 3   Pstatus     395 non-null    int64 \n",
      " 4   Medu        395 non-null    int64 \n",
      " 5   Fedu        395 non-null    int64 \n",
      " 6   Mjob        395 non-null    object\n",
      " 7   Fjob        395 non-null    object\n",
      " 8   reason      395 non-null    object\n",
      " 9   traveltime  395 non-null    int64 \n",
      " 10  studytime   395 non-null    int64 \n",
      " 11  failures    395 non-null    int64 \n",
      " 12  schoolsup   395 non-null    int64 \n",
      " 13  famsup      395 non-null    int64 \n",
      " 14  paid        395 non-null    int64 \n",
      " 15  activities  395 non-null    int64 \n",
      " 16  nursery     395 non-null    int64 \n",
      " 17  higher      395 non-null    int64 \n",
      " 18  internet    395 non-null    int64 \n",
      " 19  romantic    395 non-null    int64 \n",
      " 20  famrel      395 non-null    int64 \n",
      " 21  freetime    395 non-null    int64 \n",
      " 22  goout       395 non-null    int64 \n",
      " 23  Dalc        395 non-null    int64 \n",
      " 24  Walc        395 non-null    int64 \n",
      " 25  health      395 non-null    int64 \n",
      " 26  absences    395 non-null    int64 \n",
      " 27  G1          395 non-null    int64 \n",
      " 28  G2          395 non-null    int64 \n",
      " 29  G3          395 non-null    int64 \n",
      "dtypes: int64(27), object(3)\n",
      "memory usage: 92.7+ KB\n"
     ]
    }
   ],
   "source": [
    "math = math.drop(columns=[\n",
    "    'school', 'guardian', 'address'\n",
    "])\n",
    "\n",
    "port = port.drop(columns=[\n",
    "    'school', 'guardian', 'address' \n",
    "])\n",
    "\n",
    "math.to_csv('../data/math_reason.csv', index=False)\n",
    "port.to_csv('../data/port_reason.csv', index=False)\n",
    "\n",
    "\n",
    "math.info()"
   ]
  },
  {
   "cell_type": "code",
   "execution_count": 9,
   "id": "824ba8b5",
   "metadata": {
    "ExecuteTime": {
     "end_time": "2024-03-07T16:03:10.550044Z",
     "start_time": "2024-03-07T16:03:10.517415Z"
    }
   },
   "outputs": [],
   "source": [
    "math = math.drop(columns=['reason', 'Mjob', 'Fjob','traveltime'])\n",
    "port = port.drop(columns=['reason', 'Mjob', 'Fjob','traveltime'])\n",
    "\n",
    "\n",
    "math.to_csv('../data/math_for_ML.csv', index=False)\n",
    "port.to_csv('../data/port_for_ML.csv', index=False)"
   ]
  }
 ],
 "metadata": {
  "kernelspec": {
   "display_name": "Python 3 (ipykernel)",
   "language": "python",
   "name": "python3"
  },
  "language_info": {
   "codemirror_mode": {
    "name": "ipython",
    "version": 3
   },
   "file_extension": ".py",
   "mimetype": "text/x-python",
   "name": "python",
   "nbconvert_exporter": "python",
   "pygments_lexer": "ipython3",
   "version": "3.11.5"
  }
 },
 "nbformat": 4,
 "nbformat_minor": 5
}
